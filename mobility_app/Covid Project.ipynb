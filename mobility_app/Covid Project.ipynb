{
 "cells": [
  {
   "cell_type": "code",
   "execution_count": 48,
   "metadata": {},
   "outputs": [],
   "source": [
    "import pandas as pd\n",
    "from sqlalchemy import create_engine\n",
    "from Config2 import user,password\n",
    "import numpy as np"
   ]
  },
  {
   "cell_type": "code",
   "execution_count": 49,
   "metadata": {},
   "outputs": [
    {
     "name": "stdout",
     "output_type": "stream",
     "text": [
      "           geo_type         region transportation_type  1/13/2020  1/14/2020  \\\n",
      "0    country/region        Albania             driving        100      95.30   \n",
      "1    country/region        Albania             walking        100     100.68   \n",
      "2    country/region      Argentina             driving        100      97.07   \n",
      "3    country/region      Argentina             walking        100      95.11   \n",
      "4    country/region      Australia             driving        100     102.98   \n",
      "..              ...            ...                 ...        ...        ...   \n",
      "390            city  Washington DC             transit        100     100.78   \n",
      "391            city  Washington DC             walking        100      99.07   \n",
      "392            city         Zurich             driving        100     102.38   \n",
      "393            city         Zurich             transit        100     101.51   \n",
      "394            city         Zurich             walking        100     106.27   \n",
      "\n",
      "     1/15/2020  1/16/2020  1/17/2020  1/18/2020  1/19/2020  ...  4/12/2020  \\\n",
      "0       101.43      97.20     103.55     112.67     104.83  ...      24.89   \n",
      "1        98.93      98.46     100.85     100.13      82.13  ...      29.59   \n",
      "2       102.45     111.21     118.45     124.01      95.44  ...      12.89   \n",
      "3       101.37     112.67     116.72     114.14      84.54  ...      10.45   \n",
      "4       104.21     108.63     109.08      89.00      99.35  ...      31.72   \n",
      "..         ...        ...        ...        ...        ...  ...        ...   \n",
      "390     103.92     105.02     112.26      96.01      87.76  ...      14.23   \n",
      "391     109.61     104.16     123.16     119.71     106.28  ...      32.84   \n",
      "392     110.84     105.48     113.83     109.67     102.03  ...      54.97   \n",
      "393     108.93      97.87     103.91      98.50      93.83  ...      31.49   \n",
      "394     116.73     115.31     118.22     123.39      82.43  ...      65.61   \n",
      "\n",
      "     4/13/2020  4/14/2020  4/15/2020  4/16/2020  4/17/2020  4/18/2020  \\\n",
      "0        32.64      31.43      30.67      30.00      29.26      22.94   \n",
      "1        35.52      38.08      35.48      39.15      34.58      27.76   \n",
      "2        21.10      22.29      23.55      24.40      27.17      23.19   \n",
      "3        16.35      16.66      17.42      18.18      18.80      17.03   \n",
      "4        53.14      55.91      56.56      58.77      47.51      36.90   \n",
      "..         ...        ...        ...        ...        ...        ...   \n",
      "390      17.01      17.37      17.02      17.10      17.14      16.61   \n",
      "391      33.58      37.56      38.69      37.76      42.50      41.80   \n",
      "392      67.09      72.52      74.89      77.13      78.01      73.62   \n",
      "393      32.90      35.71      35.68      33.65      36.77      36.75   \n",
      "394      70.17      62.05      67.81      71.41      74.96      76.06   \n",
      "\n",
      "     4/19/2020  4/20/2020  4/21/2020  \n",
      "0        24.55      31.51      33.59  \n",
      "1        27.93      36.72      34.46  \n",
      "2        14.54      26.67      27.25  \n",
      "3        10.59      18.44      19.01  \n",
      "4        53.34      56.93      58.06  \n",
      "..         ...        ...        ...  \n",
      "390      16.66      18.20      17.76  \n",
      "391      43.51      41.89      38.40  \n",
      "392      71.97      73.74      76.41  \n",
      "393      37.66      37.50      36.60  \n",
      "394      74.22      65.06      66.18  \n",
      "\n",
      "[395 rows x 103 columns]\n"
     ]
    }
   ],
   "source": [
    "df=pd.read_csv(\"Resources/applemobilitytrends.csv\")\n",
    "print(df)"
   ]
  },
  {
   "cell_type": "code",
   "execution_count": 50,
   "metadata": {},
   "outputs": [
    {
     "data": {
      "text/html": [
       "<div>\n",
       "<style scoped>\n",
       "    .dataframe tbody tr th:only-of-type {\n",
       "        vertical-align: middle;\n",
       "    }\n",
       "\n",
       "    .dataframe tbody tr th {\n",
       "        vertical-align: top;\n",
       "    }\n",
       "\n",
       "    .dataframe thead th {\n",
       "        text-align: right;\n",
       "    }\n",
       "</style>\n",
       "<table border=\"1\" class=\"dataframe\">\n",
       "  <thead>\n",
       "    <tr style=\"text-align: right;\">\n",
       "      <th></th>\n",
       "      <th>geo_type</th>\n",
       "      <th>region</th>\n",
       "      <th>transportation_type</th>\n",
       "      <th>1/13/2020</th>\n",
       "      <th>1/14/2020</th>\n",
       "      <th>1/15/2020</th>\n",
       "      <th>1/16/2020</th>\n",
       "      <th>1/17/2020</th>\n",
       "      <th>1/18/2020</th>\n",
       "      <th>1/19/2020</th>\n",
       "      <th>...</th>\n",
       "      <th>4/12/2020</th>\n",
       "      <th>4/13/2020</th>\n",
       "      <th>4/14/2020</th>\n",
       "      <th>4/15/2020</th>\n",
       "      <th>4/16/2020</th>\n",
       "      <th>4/17/2020</th>\n",
       "      <th>4/18/2020</th>\n",
       "      <th>4/19/2020</th>\n",
       "      <th>4/20/2020</th>\n",
       "      <th>4/21/2020</th>\n",
       "    </tr>\n",
       "  </thead>\n",
       "  <tbody>\n",
       "    <tr>\n",
       "      <td>0</td>\n",
       "      <td>country/region</td>\n",
       "      <td>Albania</td>\n",
       "      <td>driving</td>\n",
       "      <td>100</td>\n",
       "      <td>95.30</td>\n",
       "      <td>101.43</td>\n",
       "      <td>97.20</td>\n",
       "      <td>103.55</td>\n",
       "      <td>112.67</td>\n",
       "      <td>104.83</td>\n",
       "      <td>...</td>\n",
       "      <td>24.89</td>\n",
       "      <td>32.64</td>\n",
       "      <td>31.43</td>\n",
       "      <td>30.67</td>\n",
       "      <td>30.00</td>\n",
       "      <td>29.26</td>\n",
       "      <td>22.94</td>\n",
       "      <td>24.55</td>\n",
       "      <td>31.51</td>\n",
       "      <td>33.59</td>\n",
       "    </tr>\n",
       "    <tr>\n",
       "      <td>1</td>\n",
       "      <td>country/region</td>\n",
       "      <td>Albania</td>\n",
       "      <td>walking</td>\n",
       "      <td>100</td>\n",
       "      <td>100.68</td>\n",
       "      <td>98.93</td>\n",
       "      <td>98.46</td>\n",
       "      <td>100.85</td>\n",
       "      <td>100.13</td>\n",
       "      <td>82.13</td>\n",
       "      <td>...</td>\n",
       "      <td>29.59</td>\n",
       "      <td>35.52</td>\n",
       "      <td>38.08</td>\n",
       "      <td>35.48</td>\n",
       "      <td>39.15</td>\n",
       "      <td>34.58</td>\n",
       "      <td>27.76</td>\n",
       "      <td>27.93</td>\n",
       "      <td>36.72</td>\n",
       "      <td>34.46</td>\n",
       "    </tr>\n",
       "    <tr>\n",
       "      <td>2</td>\n",
       "      <td>country/region</td>\n",
       "      <td>Argentina</td>\n",
       "      <td>driving</td>\n",
       "      <td>100</td>\n",
       "      <td>97.07</td>\n",
       "      <td>102.45</td>\n",
       "      <td>111.21</td>\n",
       "      <td>118.45</td>\n",
       "      <td>124.01</td>\n",
       "      <td>95.44</td>\n",
       "      <td>...</td>\n",
       "      <td>12.89</td>\n",
       "      <td>21.10</td>\n",
       "      <td>22.29</td>\n",
       "      <td>23.55</td>\n",
       "      <td>24.40</td>\n",
       "      <td>27.17</td>\n",
       "      <td>23.19</td>\n",
       "      <td>14.54</td>\n",
       "      <td>26.67</td>\n",
       "      <td>27.25</td>\n",
       "    </tr>\n",
       "    <tr>\n",
       "      <td>3</td>\n",
       "      <td>country/region</td>\n",
       "      <td>Argentina</td>\n",
       "      <td>walking</td>\n",
       "      <td>100</td>\n",
       "      <td>95.11</td>\n",
       "      <td>101.37</td>\n",
       "      <td>112.67</td>\n",
       "      <td>116.72</td>\n",
       "      <td>114.14</td>\n",
       "      <td>84.54</td>\n",
       "      <td>...</td>\n",
       "      <td>10.45</td>\n",
       "      <td>16.35</td>\n",
       "      <td>16.66</td>\n",
       "      <td>17.42</td>\n",
       "      <td>18.18</td>\n",
       "      <td>18.80</td>\n",
       "      <td>17.03</td>\n",
       "      <td>10.59</td>\n",
       "      <td>18.44</td>\n",
       "      <td>19.01</td>\n",
       "    </tr>\n",
       "    <tr>\n",
       "      <td>4</td>\n",
       "      <td>country/region</td>\n",
       "      <td>Australia</td>\n",
       "      <td>driving</td>\n",
       "      <td>100</td>\n",
       "      <td>102.98</td>\n",
       "      <td>104.21</td>\n",
       "      <td>108.63</td>\n",
       "      <td>109.08</td>\n",
       "      <td>89.00</td>\n",
       "      <td>99.35</td>\n",
       "      <td>...</td>\n",
       "      <td>31.72</td>\n",
       "      <td>53.14</td>\n",
       "      <td>55.91</td>\n",
       "      <td>56.56</td>\n",
       "      <td>58.77</td>\n",
       "      <td>47.51</td>\n",
       "      <td>36.90</td>\n",
       "      <td>53.34</td>\n",
       "      <td>56.93</td>\n",
       "      <td>58.06</td>\n",
       "    </tr>\n",
       "  </tbody>\n",
       "</table>\n",
       "<p>5 rows × 103 columns</p>\n",
       "</div>"
      ],
      "text/plain": [
       "         geo_type     region transportation_type  1/13/2020  1/14/2020  \\\n",
       "0  country/region    Albania             driving        100      95.30   \n",
       "1  country/region    Albania             walking        100     100.68   \n",
       "2  country/region  Argentina             driving        100      97.07   \n",
       "3  country/region  Argentina             walking        100      95.11   \n",
       "4  country/region  Australia             driving        100     102.98   \n",
       "\n",
       "   1/15/2020  1/16/2020  1/17/2020  1/18/2020  1/19/2020  ...  4/12/2020  \\\n",
       "0     101.43      97.20     103.55     112.67     104.83  ...      24.89   \n",
       "1      98.93      98.46     100.85     100.13      82.13  ...      29.59   \n",
       "2     102.45     111.21     118.45     124.01      95.44  ...      12.89   \n",
       "3     101.37     112.67     116.72     114.14      84.54  ...      10.45   \n",
       "4     104.21     108.63     109.08      89.00      99.35  ...      31.72   \n",
       "\n",
       "   4/13/2020  4/14/2020  4/15/2020  4/16/2020  4/17/2020  4/18/2020  \\\n",
       "0      32.64      31.43      30.67      30.00      29.26      22.94   \n",
       "1      35.52      38.08      35.48      39.15      34.58      27.76   \n",
       "2      21.10      22.29      23.55      24.40      27.17      23.19   \n",
       "3      16.35      16.66      17.42      18.18      18.80      17.03   \n",
       "4      53.14      55.91      56.56      58.77      47.51      36.90   \n",
       "\n",
       "   4/19/2020  4/20/2020  4/21/2020  \n",
       "0      24.55      31.51      33.59  \n",
       "1      27.93      36.72      34.46  \n",
       "2      14.54      26.67      27.25  \n",
       "3      10.59      18.44      19.01  \n",
       "4      53.34      56.93      58.06  \n",
       "\n",
       "[5 rows x 103 columns]"
      ]
     },
     "execution_count": 50,
     "metadata": {},
     "output_type": "execute_result"
    }
   ],
   "source": [
    "df.head()"
   ]
  },
  {
   "cell_type": "code",
   "execution_count": 51,
   "metadata": {},
   "outputs": [
    {
     "data": {
      "text/plain": [
       "Index(['1/13/2020', '1/14/2020', '1/15/2020', '1/16/2020', '1/17/2020',\n",
       "       '1/18/2020', '1/19/2020', '1/20/2020', '1/21/2020', '1/22/2020',\n",
       "       '1/23/2020', '1/24/2020', '1/25/2020', '1/26/2020', '1/27/2020',\n",
       "       '1/28/2020', '1/29/2020', '1/30/2020', '1/31/2020', '2/1/2020',\n",
       "       '2/2/2020', '2/3/2020', '2/4/2020', '2/5/2020', '2/6/2020', '2/7/2020',\n",
       "       '2/8/2020', '2/9/2020', '2/10/2020', '2/11/2020', '2/12/2020',\n",
       "       '2/13/2020', '2/14/2020', '2/15/2020', '2/16/2020', '2/17/2020',\n",
       "       '2/18/2020', '2/19/2020', '2/20/2020', '2/21/2020', '2/22/2020',\n",
       "       '2/23/2020', '2/24/2020', '2/25/2020', '2/26/2020', '2/27/2020',\n",
       "       '2/28/2020', '2/29/2020', '3/1/2020', '3/2/2020', '3/3/2020',\n",
       "       '3/4/2020', '3/5/2020', '3/6/2020', '3/7/2020', '3/8/2020', '3/9/2020',\n",
       "       '3/10/2020', '3/11/2020', '3/12/2020', '3/13/2020', '3/14/2020',\n",
       "       '3/15/2020', '3/16/2020', '3/17/2020', '3/18/2020', '3/19/2020',\n",
       "       '3/20/2020', '3/21/2020', '3/22/2020', '3/23/2020', '3/24/2020',\n",
       "       '3/25/2020', '3/26/2020', '3/27/2020', '3/28/2020', '3/29/2020',\n",
       "       '3/30/2020', '3/31/2020', '4/1/2020', '4/2/2020', '4/3/2020',\n",
       "       '4/4/2020', '4/5/2020', '4/6/2020', '4/7/2020', '4/8/2020', '4/9/2020',\n",
       "       '4/10/2020', '4/11/2020', '4/12/2020', '4/13/2020', '4/14/2020',\n",
       "       '4/15/2020', '4/16/2020', '4/17/2020', '4/18/2020', '4/19/2020',\n",
       "       '4/20/2020', '4/21/2020'],\n",
       "      dtype='object')"
      ]
     },
     "execution_count": 51,
     "metadata": {},
     "output_type": "execute_result"
    }
   ],
   "source": [
    "df.columns[3:]"
   ]
  },
  {
   "cell_type": "code",
   "execution_count": 52,
   "metadata": {},
   "outputs": [
    {
     "name": "stderr",
     "output_type": "stream",
     "text": [
      "C:\\Users\\Michael Boyce\\Anaconda3\\lib\\site-packages\\ipykernel_launcher.py:8: SettingWithCopyWarning: \n",
      "A value is trying to be set on a copy of a slice from a DataFrame.\n",
      "Try using .loc[row_indexer,col_indexer] = value instead\n",
      "\n",
      "See the caveats in the documentation: http://pandas.pydata.org/pandas-docs/stable/user_guide/indexing.html#returning-a-view-versus-a-copy\n",
      "  \n"
     ]
    }
   ],
   "source": [
    "final_list=[]\n",
    "for col in df.columns[3:]:\n",
    "    df_sub=df[['geo_type','region','transportation_type',col]]\n",
    "    dt=[]\n",
    "    for i in range(0,len(df_sub)):\n",
    "        dt.append(col)\n",
    "\n",
    "    df_sub['date']=dt\n",
    "    #df_sub['date']=[col for i in range(0,len(df))]\n",
    "    final_list.append(df_sub.rename(columns={col:'score'}))\n",
    "    \n",
    "    \n",
    "    "
   ]
  },
  {
   "cell_type": "code",
   "execution_count": 53,
   "metadata": {},
   "outputs": [
    {
     "name": "stdout",
     "output_type": "stream",
     "text": [
      "           geo_type         region transportation_type   score       date\n",
      "0    country/region        Albania             driving  100.00  1/13/2020\n",
      "1    country/region        Albania             walking  100.00  1/13/2020\n",
      "2    country/region      Argentina             driving  100.00  1/13/2020\n",
      "3    country/region      Argentina             walking  100.00  1/13/2020\n",
      "4    country/region      Australia             driving  100.00  1/13/2020\n",
      "..              ...            ...                 ...     ...        ...\n",
      "390            city  Washington DC             transit   17.76  4/21/2020\n",
      "391            city  Washington DC             walking   38.40  4/21/2020\n",
      "392            city         Zurich             driving   76.41  4/21/2020\n",
      "393            city         Zurich             transit   36.60  4/21/2020\n",
      "394            city         Zurich             walking   66.18  4/21/2020\n",
      "\n",
      "[39500 rows x 5 columns]\n"
     ]
    }
   ],
   "source": [
    "final=pd.concat(final_list)\n",
    "print(final)\n"
   ]
  },
  {
   "cell_type": "code",
   "execution_count": 54,
   "metadata": {},
   "outputs": [
    {
     "data": {
      "text/html": [
       "<div>\n",
       "<style scoped>\n",
       "    .dataframe tbody tr th:only-of-type {\n",
       "        vertical-align: middle;\n",
       "    }\n",
       "\n",
       "    .dataframe tbody tr th {\n",
       "        vertical-align: top;\n",
       "    }\n",
       "\n",
       "    .dataframe thead th {\n",
       "        text-align: right;\n",
       "    }\n",
       "</style>\n",
       "<table border=\"1\" class=\"dataframe\">\n",
       "  <thead>\n",
       "    <tr style=\"text-align: right;\">\n",
       "      <th></th>\n",
       "      <th>geo_type</th>\n",
       "      <th>region</th>\n",
       "      <th>transportation_type</th>\n",
       "      <th>score</th>\n",
       "      <th>date</th>\n",
       "    </tr>\n",
       "  </thead>\n",
       "  <tbody>\n",
       "    <tr>\n",
       "      <td>0</td>\n",
       "      <td>country/region</td>\n",
       "      <td>Albania</td>\n",
       "      <td>driving</td>\n",
       "      <td>100.0</td>\n",
       "      <td>1/13/2020</td>\n",
       "    </tr>\n",
       "    <tr>\n",
       "      <td>1</td>\n",
       "      <td>country/region</td>\n",
       "      <td>Albania</td>\n",
       "      <td>walking</td>\n",
       "      <td>100.0</td>\n",
       "      <td>1/13/2020</td>\n",
       "    </tr>\n",
       "    <tr>\n",
       "      <td>2</td>\n",
       "      <td>country/region</td>\n",
       "      <td>Argentina</td>\n",
       "      <td>driving</td>\n",
       "      <td>100.0</td>\n",
       "      <td>1/13/2020</td>\n",
       "    </tr>\n",
       "    <tr>\n",
       "      <td>3</td>\n",
       "      <td>country/region</td>\n",
       "      <td>Argentina</td>\n",
       "      <td>walking</td>\n",
       "      <td>100.0</td>\n",
       "      <td>1/13/2020</td>\n",
       "    </tr>\n",
       "    <tr>\n",
       "      <td>4</td>\n",
       "      <td>country/region</td>\n",
       "      <td>Australia</td>\n",
       "      <td>driving</td>\n",
       "      <td>100.0</td>\n",
       "      <td>1/13/2020</td>\n",
       "    </tr>\n",
       "  </tbody>\n",
       "</table>\n",
       "</div>"
      ],
      "text/plain": [
       "         geo_type     region transportation_type  score       date\n",
       "0  country/region    Albania             driving  100.0  1/13/2020\n",
       "1  country/region    Albania             walking  100.0  1/13/2020\n",
       "2  country/region  Argentina             driving  100.0  1/13/2020\n",
       "3  country/region  Argentina             walking  100.0  1/13/2020\n",
       "4  country/region  Australia             driving  100.0  1/13/2020"
      ]
     },
     "execution_count": 54,
     "metadata": {},
     "output_type": "execute_result"
    }
   ],
   "source": [
    "\n",
    "final.head()"
   ]
  },
  {
   "cell_type": "code",
   "execution_count": 55,
   "metadata": {},
   "outputs": [],
   "source": [
    "final.to_csv(\"Output/cleaneddata.csv\", index=False, header=True)"
   ]
  },
  {
   "cell_type": "code",
   "execution_count": 9,
   "metadata": {},
   "outputs": [
    {
     "ename": "ModuleNotFoundError",
     "evalue": "No module named 'psycopg2'",
     "output_type": "error",
     "traceback": [
      "\u001b[1;31m---------------------------------------------------------------------------\u001b[0m",
      "\u001b[1;31mModuleNotFoundError\u001b[0m                       Traceback (most recent call last)",
      "\u001b[1;32m<ipython-input-9-65d8faa250c3>\u001b[0m in \u001b[0;36m<module>\u001b[1;34m\u001b[0m\n\u001b[0;32m      1\u001b[0m \u001b[0mrds_connection_string\u001b[0m \u001b[1;33m=\u001b[0m \u001b[1;34mf\"{user}:{password}@localhost:5432/mobility_db\"\u001b[0m\u001b[1;33m\u001b[0m\u001b[1;33m\u001b[0m\u001b[0m\n\u001b[1;32m----> 2\u001b[1;33m \u001b[0mengine\u001b[0m \u001b[1;33m=\u001b[0m \u001b[0mcreate_engine\u001b[0m\u001b[1;33m(\u001b[0m\u001b[1;34mf'postgresql://{rds_connection_string}'\u001b[0m\u001b[1;33m)\u001b[0m\u001b[1;33m\u001b[0m\u001b[1;33m\u001b[0m\u001b[0m\n\u001b[0m",
      "\u001b[1;32m~\\Anaconda3\\lib\\site-packages\\sqlalchemy\\engine\\__init__.py\u001b[0m in \u001b[0;36mcreate_engine\u001b[1;34m(*args, **kwargs)\u001b[0m\n\u001b[0;32m    477\u001b[0m     \u001b[0mstrategy\u001b[0m \u001b[1;33m=\u001b[0m \u001b[0mkwargs\u001b[0m\u001b[1;33m.\u001b[0m\u001b[0mpop\u001b[0m\u001b[1;33m(\u001b[0m\u001b[1;34m\"strategy\"\u001b[0m\u001b[1;33m,\u001b[0m \u001b[0mdefault_strategy\u001b[0m\u001b[1;33m)\u001b[0m\u001b[1;33m\u001b[0m\u001b[1;33m\u001b[0m\u001b[0m\n\u001b[0;32m    478\u001b[0m     \u001b[0mstrategy\u001b[0m \u001b[1;33m=\u001b[0m \u001b[0mstrategies\u001b[0m\u001b[1;33m.\u001b[0m\u001b[0mstrategies\u001b[0m\u001b[1;33m[\u001b[0m\u001b[0mstrategy\u001b[0m\u001b[1;33m]\u001b[0m\u001b[1;33m\u001b[0m\u001b[1;33m\u001b[0m\u001b[0m\n\u001b[1;32m--> 479\u001b[1;33m     \u001b[1;32mreturn\u001b[0m \u001b[0mstrategy\u001b[0m\u001b[1;33m.\u001b[0m\u001b[0mcreate\u001b[0m\u001b[1;33m(\u001b[0m\u001b[1;33m*\u001b[0m\u001b[0margs\u001b[0m\u001b[1;33m,\u001b[0m \u001b[1;33m**\u001b[0m\u001b[0mkwargs\u001b[0m\u001b[1;33m)\u001b[0m\u001b[1;33m\u001b[0m\u001b[1;33m\u001b[0m\u001b[0m\n\u001b[0m\u001b[0;32m    480\u001b[0m \u001b[1;33m\u001b[0m\u001b[0m\n\u001b[0;32m    481\u001b[0m \u001b[1;33m\u001b[0m\u001b[0m\n",
      "\u001b[1;32m~\\Anaconda3\\lib\\site-packages\\sqlalchemy\\engine\\strategies.py\u001b[0m in \u001b[0;36mcreate\u001b[1;34m(self, name_or_url, **kwargs)\u001b[0m\n\u001b[0;32m     85\u001b[0m                 \u001b[1;32mif\u001b[0m \u001b[0mk\u001b[0m \u001b[1;32min\u001b[0m \u001b[0mkwargs\u001b[0m\u001b[1;33m:\u001b[0m\u001b[1;33m\u001b[0m\u001b[1;33m\u001b[0m\u001b[0m\n\u001b[0;32m     86\u001b[0m                     \u001b[0mdbapi_args\u001b[0m\u001b[1;33m[\u001b[0m\u001b[0mk\u001b[0m\u001b[1;33m]\u001b[0m \u001b[1;33m=\u001b[0m \u001b[0mpop_kwarg\u001b[0m\u001b[1;33m(\u001b[0m\u001b[0mk\u001b[0m\u001b[1;33m)\u001b[0m\u001b[1;33m\u001b[0m\u001b[1;33m\u001b[0m\u001b[0m\n\u001b[1;32m---> 87\u001b[1;33m             \u001b[0mdbapi\u001b[0m \u001b[1;33m=\u001b[0m \u001b[0mdialect_cls\u001b[0m\u001b[1;33m.\u001b[0m\u001b[0mdbapi\u001b[0m\u001b[1;33m(\u001b[0m\u001b[1;33m**\u001b[0m\u001b[0mdbapi_args\u001b[0m\u001b[1;33m)\u001b[0m\u001b[1;33m\u001b[0m\u001b[1;33m\u001b[0m\u001b[0m\n\u001b[0m\u001b[0;32m     88\u001b[0m \u001b[1;33m\u001b[0m\u001b[0m\n\u001b[0;32m     89\u001b[0m         \u001b[0mdialect_args\u001b[0m\u001b[1;33m[\u001b[0m\u001b[1;34m\"dbapi\"\u001b[0m\u001b[1;33m]\u001b[0m \u001b[1;33m=\u001b[0m \u001b[0mdbapi\u001b[0m\u001b[1;33m\u001b[0m\u001b[1;33m\u001b[0m\u001b[0m\n",
      "\u001b[1;32m~\\Anaconda3\\lib\\site-packages\\sqlalchemy\\dialects\\postgresql\\psycopg2.py\u001b[0m in \u001b[0;36mdbapi\u001b[1;34m(cls)\u001b[0m\n\u001b[0;32m    735\u001b[0m     \u001b[1;33m@\u001b[0m\u001b[0mclassmethod\u001b[0m\u001b[1;33m\u001b[0m\u001b[1;33m\u001b[0m\u001b[0m\n\u001b[0;32m    736\u001b[0m     \u001b[1;32mdef\u001b[0m \u001b[0mdbapi\u001b[0m\u001b[1;33m(\u001b[0m\u001b[0mcls\u001b[0m\u001b[1;33m)\u001b[0m\u001b[1;33m:\u001b[0m\u001b[1;33m\u001b[0m\u001b[1;33m\u001b[0m\u001b[0m\n\u001b[1;32m--> 737\u001b[1;33m         \u001b[1;32mimport\u001b[0m \u001b[0mpsycopg2\u001b[0m\u001b[1;33m\u001b[0m\u001b[1;33m\u001b[0m\u001b[0m\n\u001b[0m\u001b[0;32m    738\u001b[0m \u001b[1;33m\u001b[0m\u001b[0m\n\u001b[0;32m    739\u001b[0m         \u001b[1;32mreturn\u001b[0m \u001b[0mpsycopg2\u001b[0m\u001b[1;33m\u001b[0m\u001b[1;33m\u001b[0m\u001b[0m\n",
      "\u001b[1;31mModuleNotFoundError\u001b[0m: No module named 'psycopg2'"
     ]
    }
   ],
   "source": [
    "#import data to postgresql\n",
    "rds_connection_string = f\"{user}:{password}@localhost:5432/mobility_db\"\n",
    "engine = create_engine(f'postgresql://{rds_connection_string}')"
   ]
  },
  {
   "cell_type": "code",
   "execution_count": 41,
   "metadata": {},
   "outputs": [
    {
     "data": {
      "text/plain": [
       "[]"
      ]
     },
     "execution_count": 41,
     "metadata": {},
     "output_type": "execute_result"
    }
   ],
   "source": [
    "engine.table_names()"
   ]
  },
  {
   "cell_type": "code",
   "execution_count": 42,
   "metadata": {},
   "outputs": [],
   "source": [
    "final.to_sql(name='mobility', con=engine, if_exists='append', index=False)"
   ]
  },
  {
   "cell_type": "code",
   "execution_count": 20,
   "metadata": {
    "scrolled": true
   },
   "outputs": [],
   "source": [
    "# dt=[]\n",
    "# for i in range(0,len(df_sub)):\n",
    "#     dt.append('2020-01-13')"
   ]
  },
  {
   "cell_type": "code",
   "execution_count": 21,
   "metadata": {},
   "outputs": [],
   "source": [
    "# df_sub['date']=dt"
   ]
  },
  {
   "cell_type": "code",
   "execution_count": 22,
   "metadata": {},
   "outputs": [],
   "source": [
    "# df_sub.head()"
   ]
  },
  {
   "cell_type": "code",
   "execution_count": 23,
   "metadata": {},
   "outputs": [],
   "source": [
    "# df_sub.rename(columns={'2020-01-13':'score'})"
   ]
  },
  {
   "cell_type": "code",
   "execution_count": null,
   "metadata": {},
   "outputs": [],
   "source": []
  },
  {
   "cell_type": "code",
   "execution_count": null,
   "metadata": {},
   "outputs": [],
   "source": []
  }
 ],
 "metadata": {
  "kernelspec": {
   "display_name": "Python 3",
   "language": "python",
   "name": "python3"
  },
  "language_info": {
   "codemirror_mode": {
    "name": "ipython",
    "version": 3
   },
   "file_extension": ".py",
   "mimetype": "text/x-python",
   "name": "python",
   "nbconvert_exporter": "python",
   "pygments_lexer": "ipython3",
   "version": "3.7.6"
  }
 },
 "nbformat": 4,
 "nbformat_minor": 4
}
